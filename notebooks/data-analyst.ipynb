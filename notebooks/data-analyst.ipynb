{
 "cells": [
  {
   "cell_type": "code",
   "execution_count": null,
   "metadata": {},
   "outputs": [
    {
     "data": {
      "text/plain": [
       "model\n",
       "Yaris            2122\n",
       "Aygo             1961\n",
       "Auris             712\n",
       "C-HR              479\n",
       "RAV4              473\n",
       "Corolla           267\n",
       "Prius             232\n",
       "Avensis           115\n",
       "Verso             114\n",
       "Hilux              86\n",
       "GT86               73\n",
       "Land Cruiser       51\n",
       "PROACE VERSO       15\n",
       "Supra              12\n",
       "Camry              11\n",
       "IQ                  8\n",
       "Urban Cruiser       4\n",
       "Verso-S             3\n",
       "Name: count, dtype: int64"
      ]
     },
     "execution_count": 12,
     "metadata": {},
     "output_type": "execute_result"
    }
   ],
   "source": [
    "import pandas as pd\n",
    "\n",
    "toyota = pd.read_csv(\"../data/toyota.csv\")\n",
    "toyota.head()\n",
    "toyota[\"model\"].value_counts()\n",
    "toyota.hist(column='price', bins=50)\n",
    "#toyota.hist(column='year', bins=50)\n"
   ]
  },
  {
   "cell_type": "code",
   "execution_count": null,
   "metadata": {},
   "outputs": [],
   "source": []
  }
 ],
 "metadata": {
  "kernelspec": {
   "display_name": "Python 3",
   "language": "python",
   "name": "python3"
  },
  "language_info": {
   "codemirror_mode": {
    "name": "ipython",
    "version": 3
   },
   "file_extension": ".py",
   "mimetype": "text/x-python",
   "name": "python",
   "nbconvert_exporter": "python",
   "pygments_lexer": "ipython3",
   "version": "3.10.12"
  }
 },
 "nbformat": 4,
 "nbformat_minor": 2
}
